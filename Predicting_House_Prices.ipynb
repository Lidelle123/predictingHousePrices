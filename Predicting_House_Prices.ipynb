{
  "cells": [
    {
      "cell_type": "code",
      "execution_count": null,
      "metadata": {
        "id": "QaquKoZ0BtQ0"
      },
      "outputs": [],
      "source": [
        "%pip install -q kaggle"
      ]
    },
    {
      "cell_type": "code",
      "execution_count": null,
      "metadata": {},
      "outputs": [],
      "source": []
    },
    {
      "cell_type": "markdown",
      "metadata": {},
      "source": []
    },
    {
      "cell_type": "code",
      "execution_count": null,
      "metadata": {
        "id": "uo8EUOuVCB_k"
      },
      "outputs": [],
      "source": [
        "!mkdir -p ~/.kaggle"
      ]
    },
    {
      "cell_type": "code",
      "execution_count": null,
      "metadata": {
        "id": "vxjd2nE7CG82"
      },
      "outputs": [],
      "source": [
        "!cp kaggle.json ~/.kaggle/"
      ]
    },
    {
      "cell_type": "code",
      "execution_count": null,
      "metadata": {
        "colab": {
          "base_uri": "https://localhost:8080/"
        },
        "id": "ED5g5No1CKF7",
        "outputId": "9ea64b71-93be-4651-9da8-59bb5ec6abb0"
      },
      "outputs": [],
      "source": [
        "# download the dataset\n",
        "! kaggle competitions download -c house-prices-advanced-regression-techniques"
      ]
    },
    {
      "cell_type": "code",
      "execution_count": null,
      "metadata": {
        "colab": {
          "base_uri": "https://localhost:8080/"
        },
        "id": "TitvuMiGCN1a",
        "outputId": "dfbad52b-6fe4-4a3d-da77-7ff436744466"
      },
      "outputs": [],
      "source": [
        "# unzip the dataset\n",
        "!unzip /content/house-prices-advanced-regression-techniques.zip"
      ]
    },
    {
      "cell_type": "code",
      "execution_count": null,
      "metadata": {
        "id": "NNu7mNWvCS5b"
      },
      "outputs": [],
      "source": [
        "# import libraries\n",
        "import pandas as pd\n",
        "import numpy as np\n",
        "import matplotlib.pyplot as plt\n",
        "import seaborn as sns\n",
        "from sklearn.preprocessing import StandardScaler, PolynomialFeatures, MinMaxScaler\n",
        "from sklearn.model_selection import train_test_split\n",
        "from sklearn.linear_model import LinearRegression\n",
        "from sklearn.metrics import mean_absolute_error,mean_squared_error,r2_score"
      ]
    },
    {
      "cell_type": "markdown",
      "metadata": {
        "id": "-9l6EDiTChSw"
      },
      "source": [
        "# Data Exploration"
      ]
    },
    {
      "cell_type": "code",
      "execution_count": null,
      "metadata": {
        "id": "Oyg-xdWZCYlf"
      },
      "outputs": [],
      "source": [
        "\n",
        "data = pd.read_csv('/content/train.csv', index_col='Id')"
      ]
    },
    {
      "cell_type": "code",
      "execution_count": null,
      "metadata": {
        "colab": {
          "base_uri": "https://localhost:8080/"
        },
        "id": "X0M0cpL-C5Jz",
        "outputId": "71fd47f2-232b-4808-889c-751309671275"
      },
      "outputs": [],
      "source": [
        "\n",
        "print('data frame shape: ', data.shape)\n",
        "print(\"the data frame contains %2d rows, and %d columns (attributes)\" % (data.shape[0], data.shape[1]))"
      ]
    },
    {
      "cell_type": "code",
      "execution_count": null,
      "metadata": {
        "colab": {
          "base_uri": "https://localhost:8080/",
          "height": 349
        },
        "id": "QN7cebTlDGn_",
        "outputId": "bb367f84-93d5-4341-938a-ae063ffafe8b"
      },
      "outputs": [],
      "source": [
        "\n",
        "data.describe()"
      ]
    },
    {
      "cell_type": "code",
      "execution_count": null,
      "metadata": {
        "colab": {
          "base_uri": "https://localhost:8080/",
          "height": 287
        },
        "id": "Qhe2kjpuEeAU",
        "outputId": "d745b70d-fde2-492d-ffae-d349b89b8fa2"
      },
      "outputs": [],
      "source": [
        "\n",
        "data.head()"
      ]
    },
    {
      "cell_type": "markdown",
      "metadata": {
        "id": "RIFgjE8YEq9Y"
      },
      "source": [
        "# Data Cleaning"
      ]
    },
    {
      "cell_type": "code",
      "execution_count": null,
      "metadata": {
        "colab": {
          "base_uri": "https://localhost:8080/"
        },
        "id": "qJfLGFg8FEwf",
        "outputId": "d95088db-230b-4629-a1b9-b9b3d73fb794"
      },
      "outputs": [],
      "source": [
        "\n",
        "print(data.dtypes.to_string())"
      ]
    },
    {
      "cell_type": "code",
      "execution_count": null,
      "metadata": {
        "id": "i2u1ZAITEu7v"
      },
      "outputs": [],
      "source": [
        "\n",
        "num_data = data.select_dtypes(exclude=['object'])"
      ]
    },
    {
      "cell_type": "code",
      "execution_count": null,
      "metadata": {
        "colab": {
          "base_uri": "https://localhost:8080/"
        },
        "id": "923XOKVbFkNd",
        "outputId": "c98ce2dd-97dc-4b2f-b5b7-52c0d50b82aa"
      },
      "outputs": [],
      "source": [
        "\n",
        "print(num_data.dtypes.to_string())"
      ]
    },
    {
      "cell_type": "code",
      "execution_count": null,
      "metadata": {
        "colab": {
          "base_uri": "https://localhost:8080/"
        },
        "id": "aRXsTyfGF0rd",
        "outputId": "e5f97493-b82e-485e-8df9-b84b7541fccf"
      },
      "outputs": [],
      "source": [
        "\n",
        "cols_with_nans = num_data.isnull().sum()\n",
        "print(\"number of NaN values for the training data frame :\")\n",
        "print(cols_with_nans[cols_with_nans>0])"
      ]
    },
    {
      "cell_type": "code",
      "execution_count": null,
      "metadata": {
        "id": "cEsHjr05GHAG"
      },
      "outputs": [],
      "source": [
        "\n",
        "clean_data = num_data.fillna(num_data.mean())"
      ]
    },
    {
      "cell_type": "code",
      "execution_count": null,
      "metadata": {
        "colab": {
          "base_uri": "https://localhost:8080/"
        },
        "id": "ZpaoTNViGgWN",
        "outputId": "e8629cc6-b6fd-4ea6-dfe9-2456d6eca164"
      },
      "outputs": [],
      "source": [
        "\n",
        "cols_with_nans = clean_data.isnull().sum()\n",
        "print(\"number of NaN values for the training data frame :\")\n",
        "print(cols_with_nans[cols_with_nans>0])"
      ]
    },
    {
      "cell_type": "code",
      "execution_count": null,
      "metadata": {
        "colab": {
          "base_uri": "https://localhost:8080/"
        },
        "id": "1EybwZ90G6K7",
        "outputId": "bb6957af-8b08-439d-da63-7f27410b250f"
      },
      "outputs": [],
      "source": [
        "\n",
        "print('the shape of the data: ', clean_data.shape)\n",
        "print('the data frame contains %d rows, and %d columns (attributes)' % (clean_data.shape[0], clean_data.shape[1]))"
      ]
    },
    {
      "cell_type": "markdown",
      "metadata": {
        "id": "6m8GOcb5Gq_g"
      },
      "source": [
        "# Exploratory Data Analysis"
      ]
    },
    {
      "cell_type": "code",
      "execution_count": null,
      "metadata": {
        "id": "UhVpwNkDIV3G"
      },
      "outputs": [],
      "source": [
        "def plot_reg(x_var, y_var, DataFrame):\n",
        "    #\n",
        "    sns.regplot(x = x_var,\n",
        "                y = y_var,\n",
        "                data = DataFrame)\n",
        "\n",
        "    plt.show()"
      ]
    },
    {
      "cell_type": "code",
      "execution_count": null,
      "metadata": {
        "colab": {
          "base_uri": "https://localhost:8080/"
        },
        "id": "TMi8ubcFGpVV",
        "outputId": "b603afc5-3678-4115-af5c-223373246df1"
      },
      "outputs": [],
      "source": [
        "\n",
        "att_names = clean_data.columns.tolist()\n",
        "print(att_names)"
      ]
    },
    {
      "cell_type": "code",
      "execution_count": null,
      "metadata": {
        "colab": {
          "base_uri": "https://localhost:8080/",
          "height": 449
        },
        "id": "U8ec1iU4I7r6",
        "outputId": "769cfea8-cbfa-47f9-8d09-578ff886536d"
      },
      "outputs": [],
      "source": [
        "\n",
        "plot_reg('OverallQual', 'SalePrice', clean_data)"
      ]
    },
    {
      "cell_type": "code",
      "execution_count": null,
      "metadata": {
        "colab": {
          "base_uri": "https://localhost:8080/",
          "height": 449
        },
        "id": "n1r3jxP3KDsd",
        "outputId": "45421901-fe10-44aa-a05b-73f70efdc6cc"
      },
      "outputs": [],
      "source": [
        "\n",
        "plot_reg('YearBuilt', 'SalePrice', clean_data)"
      ]
    },
    {
      "cell_type": "code",
      "execution_count": null,
      "metadata": {
        "colab": {
          "base_uri": "https://localhost:8080/",
          "height": 449
        },
        "id": "JPxDcGrSKLWv",
        "outputId": "c10ca193-cd6e-4c38-eb42-2618cb3f47a7"
      },
      "outputs": [],
      "source": [
        "\n",
        "plot_reg('LotFrontage', 'SalePrice', clean_data)"
      ]
    },
    {
      "cell_type": "markdown",
      "metadata": {
        "id": "pq2uPyPiLHAO"
      },
      "source": [
        "# Data Splitting"
      ]
    },
    {
      "cell_type": "code",
      "execution_count": null,
      "metadata": {
        "id": "02cD-hyhK9Jj"
      },
      "outputs": [],
      "source": [
        "\n",
        "columns = clean_data.columns\n",
        "features_names = columns[columns != 'SalePrice']\n",
        "features = clean_data[features_names]\n",
        "target = clean_data['SalePrice']"
      ]
    },
    {
      "cell_type": "code",
      "execution_count": null,
      "metadata": {
        "id": "wkzryrNPLPxu"
      },
      "outputs": [],
      "source": [
        "\n",
        "X_train, X_test, Y_train, Y_test = train_test_split(features, target, test_size=0.2, random_state=42)"
      ]
    },
    {
      "cell_type": "markdown",
      "metadata": {
        "id": "pyY3nx87La_p"
      },
      "source": [
        "# Data Preprocessing"
      ]
    },
    {
      "cell_type": "code",
      "execution_count": null,
      "metadata": {
        "id": "uP6fl2ctMgSj"
      },
      "outputs": [],
      "source": [
        "scaler = StandardScaler()\n",
        "X_train_s = scaler.fit_transform(X_train)\n",
        "X_test_s = scaler.transform(X_test)"
      ]
    },
    {
      "cell_type": "code",
      "execution_count": null,
      "metadata": {
        "id": "5MqBA1AQLWe4"
      },
      "outputs": [],
      "source": [
        "\n",
        "scaler = MinMaxScaler(feature_range=(0, 1))\n",
        "\n",
        "\n",
        "rescaledX_train = scaler.fit_transform(X_train)\n",
        "rescaledX_test  = scaler.transform(X_test)"
      ]
    },
    {
      "cell_type": "markdown",
      "metadata": {
        "id": "KKBbwvbOM3Wh"
      },
      "source": [
        "# Linear Regression Model"
      ]
    },
    {
      "cell_type": "code",
      "execution_count": null,
      "metadata": {
        "id": "yv3qudOvM4r1"
      },
      "outputs": [],
      "source": [
        "\n",
        "lr_model = LinearRegression()"
      ]
    },
    {
      "cell_type": "code",
      "execution_count": null,
      "metadata": {
        "colab": {
          "base_uri": "https://localhost:8080/",
          "height": 74
        },
        "id": "_YmTEi7jM9it",
        "outputId": "2d57ef3b-74bf-415f-9bb9-99c7e56e7ace"
      },
      "outputs": [],
      "source": [
        "\n",
        "lr_model.fit(rescaledX_train, Y_train)"
      ]
    },
    {
      "cell_type": "code",
      "execution_count": null,
      "metadata": {
        "id": "ed5wN6sBNBMQ"
      },
      "outputs": [],
      "source": [
        "\n",
        "lr_predictions = lr_model.predict(rescaledX_test)"
      ]
    },
    {
      "cell_type": "markdown",
      "metadata": {
        "id": "R-wU1QooNLTQ"
      },
      "source": [
        "# Scores and Results"
      ]
    },
    {
      "cell_type": "code",
      "execution_count": null,
      "metadata": {
        "id": "9KQ_NIG1NPD2"
      },
      "outputs": [],
      "source": [
        "\n",
        "LinearRegression_SCR  = lr_model.score(rescaledX_test, Y_test)\n",
        "LinearRegression_MAE  = mean_absolute_error(Y_test, lr_predictions)\n",
        "LinearRegression_MSE  = mean_squared_error(Y_test, lr_predictions)\n",
        "LinearRegression_RMSE = np.sqrt(mean_squared_error(Y_test, lr_predictions))\n",
        "LinearRegression_R2   = r2_score(Y_test, lr_predictions)"
      ]
    },
    {
      "cell_type": "code",
      "execution_count": null,
      "metadata": {
        "colab": {
          "base_uri": "https://localhost:8080/",
          "height": 206
        },
        "id": "QWZOhPMXOD54",
        "outputId": "b19c799e-0533-486f-e212-191fe0766765"
      },
      "outputs": [],
      "source": [
        "\n",
        "Report = pd.DataFrame({'Metric': ['Score', 'MAE', 'MSE', 'RMSE','R^2'],\n",
        "        'Value': [LinearRegression_SCR, LinearRegression_MAE, LinearRegression_MSE,\n",
        "                  LinearRegression_RMSE, LinearRegression_R2]})\n",
        "Report"
      ]
    },
    {
      "cell_type": "code",
      "execution_count": null,
      "metadata": {
        "colab": {
          "base_uri": "https://localhost:8080/",
          "height": 564
        },
        "id": "sYXaQOTsObNB",
        "outputId": "f6351b76-d980-448c-bc6b-69d0fc398587"
      },
      "outputs": [],
      "source": [
        "\n",
        "plt.figure(figsize=(10, 6))\n",
        "plt.scatter(Y_test, lr_predictions, alpha=0.5)\n",
        "plt.xlabel(\"Actual Prices\")\n",
        "plt.ylabel(\"Predicted Prices\")\n",
        "plt.title(f\" Actual Prices vs Predicted Prices\")\n",
        "plt.show()"
      ]
    }
  ],
  "metadata": {
    "colab": {
      "provenance": []
    },
    "kernelspec": {
      "display_name": "Python 3",
      "name": "python3"
    },
    "language_info": {
      "name": "python"
    }
  },
  "nbformat": 4,
  "nbformat_minor": 0
}
